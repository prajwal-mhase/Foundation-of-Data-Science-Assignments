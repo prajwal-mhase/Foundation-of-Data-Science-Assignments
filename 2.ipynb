{
 "cells": [
  {
   "cell_type": "code",
   "execution_count": 3,
   "id": "0cf8ad1c",
   "metadata": {},
   "outputs": [],
   "source": [
    "import pywhatkit as pwk"
   ]
  },
  {
   "cell_type": "code",
   "execution_count": null,
   "id": "8081838a",
   "metadata": {},
   "outputs": [
    {
     "name": "stdout",
     "output_type": "stream",
     "text": [
      "In 4 Seconds WhatsApp will open and after 15 Seconds Message will be Delivered!\n"
     ]
    }
   ],
   "source": [
    "ph=\"+91987654321\"\n",
    "msg=\"Hii\"\n",
    "# Send message at 15:30 (3:30 PM)\n",
    "pwk.sendwhatmsg(ph, msg, 10, 16)\n"
   ]
  }
 ],
 "metadata": {
  "kernelspec": {
   "display_name": ".venv",
   "language": "python",
   "name": "python3"
  },
  "language_info": {
   "codemirror_mode": {
    "name": "ipython",
    "version": 3
   },
   "file_extension": ".py",
   "mimetype": "text/x-python",
   "name": "python",
   "nbconvert_exporter": "python",
   "pygments_lexer": "ipython3",
   "version": "3.13.5"
  }
 },
 "nbformat": 4,
 "nbformat_minor": 5
}
