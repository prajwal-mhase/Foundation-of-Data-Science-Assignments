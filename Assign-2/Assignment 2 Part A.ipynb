{
 "cells": [
  {
   "cell_type": "code",
   "execution_count": 1,
   "id": "db38c75e",
   "metadata": {},
   "outputs": [],
   "source": [
    "import pandas as pd"
   ]
  },
  {
   "cell_type": "code",
   "execution_count": 2,
   "id": "004d0b25",
   "metadata": {},
   "outputs": [
    {
     "name": "stdout",
     "output_type": "stream",
     "text": [
      "Pandas Series:\n",
      "a    100\n",
      "b    200\n",
      "c    300\n",
      "d    400\n",
      "e    500\n",
      "dtype: int64\n",
      "\n",
      "Access single value: 300\n"
     ]
    }
   ],
   "source": [
    "s = pd.Series([100, 200, 300, 400, 500], index=['a','b','c','d','e'])\n",
    "\n",
    "print(\"Pandas Series:\")\n",
    "print(s)\n",
    "print(\"\\nAccess single value:\", s['c'])"
   ]
  },
  {
   "cell_type": "code",
   "execution_count": 3,
   "id": "c04a4ff9",
   "metadata": {},
   "outputs": [
    {
     "data": {
      "text/plain": [
       "pandas.core.series.Series"
      ]
     },
     "execution_count": 3,
     "metadata": {},
     "output_type": "execute_result"
    }
   ],
   "source": [
    "type(s)"
   ]
  },
  {
   "cell_type": "code",
   "execution_count": 4,
   "id": "1d329801",
   "metadata": {},
   "outputs": [
    {
     "name": "stdout",
     "output_type": "stream",
     "text": [
      "Original:\n",
      " a    100\n",
      "b    200\n",
      "c    300\n",
      "d    400\n",
      "e    500\n",
      "dtype: int64\n",
      "\n",
      "Multiplied by 2:\n",
      " a     200\n",
      "b     400\n",
      "c     600\n",
      "d     800\n",
      "e    1000\n",
      "dtype: int64\n"
     ]
    }
   ],
   "source": [
    "#perform arithmatic operation\n",
    "print(\"Original:\\n\", s)\n",
    "print(\"\\nMultiplied by 2:\\n\", s * 2)"
   ]
  },
  {
   "cell_type": "code",
   "execution_count": 5,
   "id": "0b9c6a96",
   "metadata": {},
   "outputs": [
    {
     "name": "stdout",
     "output_type": "stream",
     "text": [
      "Pandas DataFrame:\n",
      "        Name  Age  Marks\n",
      "0     Maruti   31     32\n",
      "1  Balasaheb   30     34\n",
      "2      Sunil   33     12\n",
      "\n",
      "Access single column (as Series):\n",
      "0    32\n",
      "1    34\n",
      "2    12\n",
      "Name: Marks, dtype: int64\n"
     ]
    }
   ],
   "source": [
    "# Creating a DataFrame\n",
    "data = {\n",
    "    'Name': ['Maruti', 'Balasaheb', 'Sunil'],\n",
    "    'Age': [31, 30, 33],\n",
    "    'Marks': [32, 34, 12]\n",
    "}\n",
    "\n",
    "df = pd.DataFrame(data)\n",
    "\n",
    "print(\"Pandas DataFrame:\")\n",
    "print(df)\n",
    "print(\"\\nAccess single column (as Series):\")\n",
    "print(df['Marks'])"
   ]
  },
  {
   "cell_type": "code",
   "execution_count": 6,
   "id": "b9d0b7e5",
   "metadata": {},
   "outputs": [
    {
     "data": {
      "text/plain": [
       "pandas.core.frame.DataFrame"
      ]
     },
     "execution_count": 6,
     "metadata": {},
     "output_type": "execute_result"
    }
   ],
   "source": [
    "type(df)"
   ]
  },
  {
   "cell_type": "code",
   "execution_count": 7,
   "id": "f3de3336",
   "metadata": {},
   "outputs": [
    {
     "name": "stdout",
     "output_type": "stream",
     "text": [
      "\n",
      " 0       Maruti\n",
      "1    Balasaheb\n",
      "2        Sunil\n",
      "Name: Name, dtype: object\n",
      "\n",
      "         Name  Marks\n",
      "0     Maruti     32\n",
      "1  Balasaheb     34\n",
      "2      Sunil     12\n",
      "\n",
      " Name     Maruti\n",
      "Age          31\n",
      "Marks        32\n",
      "Name: 0, dtype: object\n",
      "\n",
      "         Name  Age  Marks\n",
      "1  Balasaheb   30     34\n",
      "2      Sunil   33     12\n",
      "\n",
      "         Name  Age  Marks\n",
      "0     Maruti   31     32\n",
      "1  Balasaheb   30     34\n"
     ]
    }
   ],
   "source": [
    "print(\"\\n\",df['Name'])             # select single column\n",
    "print(\"\\n\",df[['Name','Marks']])   # select multiple columns\n",
    "print(\"\\n\",df.iloc[0])             # first row by index\n",
    "print(\"\\n\",df.iloc[1:4])           # rows by index range\n",
    "print(\"\\n\",df.loc[df['Marks']>30]) # filter condition"
   ]
  },
  {
   "cell_type": "code",
   "execution_count": 8,
   "id": "9643b05b",
   "metadata": {},
   "outputs": [],
   "source": [
    "data=pd.read_csv(\"sc_data.csv\")         # load CSV file\n"
   ]
  },
  {
   "cell_type": "code",
   "execution_count": 9,
   "id": "e63acf19",
   "metadata": {},
   "outputs": [
    {
     "name": "stdout",
     "output_type": "stream",
     "text": [
      "   rank      name     ticker  market_cap_04_08_2025  price_04_08_2025  \\\n",
      "0     1    NVIDIA       NVDA          4236614041600          173.7200   \n",
      "1     2  Broadcom       AVGO          1357609697280          288.6400   \n",
      "2     3      TSMC        TSM          1219921444864          235.2100   \n",
      "3     4   Samsung  005930.KS           326234945517           49.5673   \n",
      "4     5       AMD        AMD           278314942464          171.6510   \n",
      "\n",
      "         country  \n",
      "0  United States  \n",
      "1  United States  \n",
      "2         Taiwan  \n",
      "3    South Korea  \n",
      "4  United States  \n",
      "\n",
      "      rank               name    ticker  market_cap_04_08_2025  \\\n",
      "147   148  GCT Semiconductor      GCTS               74175432   \n",
      "148   149     Amtech Systems      ASYS               65271840   \n",
      "149   150         Pixelworks      PXLW               56552416   \n",
      "150   151         Mobix Labs      MOBX               43760624   \n",
      "151   152             Kalray  ALKAL.PA                8735389   \n",
      "\n",
      "     price_04_08_2025        country  \n",
      "147          1.330000  United States  \n",
      "148          4.560000  United States  \n",
      "149         10.780000  United States  \n",
      "150          0.818900  United States  \n",
      "151          0.714697         France  \n",
      "\n",
      " (152, 6)\n",
      "<class 'pandas.core.frame.DataFrame'>\n",
      "RangeIndex: 152 entries, 0 to 151\n",
      "Data columns (total 6 columns):\n",
      " #   Column                 Non-Null Count  Dtype  \n",
      "---  ------                 --------------  -----  \n",
      " 0   rank                   152 non-null    int64  \n",
      " 1   name                   152 non-null    object \n",
      " 2   ticker                 152 non-null    object \n",
      " 3   market_cap_04_08_2025  152 non-null    int64  \n",
      " 4   price_04_08_2025       152 non-null    float64\n",
      " 5   country                152 non-null    object \n",
      "dtypes: float64(1), int64(2), object(3)\n",
      "memory usage: 7.3+ KB\n",
      "\n",
      " None\n"
     ]
    }
   ],
   "source": [
    "print(data.head()     )    # first 5 rows\n",
    "print(\"\\n\",data.tail())    # last 5 rows\n",
    "print(\"\\n\",data.shape )    # (rows, columns)\n",
    "print(\"\\n\",data.info())    # summary\n"
   ]
  },
  {
   "cell_type": "code",
   "execution_count": 10,
   "id": "146f0624",
   "metadata": {},
   "outputs": [
    {
     "name": "stdout",
     "output_type": "stream",
     "text": [
      "rank                       int64\n",
      "name                      object\n",
      "ticker                    object\n",
      "market_cap_04_08_2025      int64\n",
      "price_04_08_2025         float64\n",
      "country                   object\n",
      "dtype: object\n",
      "\n",
      "              rank  market_cap_04_08_2025  price_04_08_2025\n",
      "count  152.000000           1.520000e+02        152.000000\n",
      "mean    76.500000           6.777295e+10         73.558129\n",
      "std     44.022721           3.735016e+11        134.513950\n",
      "min      1.000000           8.735389e+06          0.128263\n",
      "25%     38.750000           1.006935e+09          8.015935\n",
      "50%     76.500000           4.950831e+09         21.431100\n",
      "75%    114.250000           1.688528e+10         79.056950\n",
      "max    152.000000           4.236614e+12        886.640000\n",
      "\n",
      " Index(['rank', 'name', 'ticker', 'market_cap_04_08_2025', 'price_04_08_2025',\n",
      "       'country'],\n",
      "      dtype='object')\n",
      "\n",
      " RangeIndex(start=0, stop=152, step=1)\n"
     ]
    }
   ],
   "source": [
    "print(data.dtypes         )    # print(\"\\n\",data types of e)ach column\n",
    "print(\"\\n\",data.describe())    # summary statistics (mean, std, min, max, etc.)\n",
    "print(\"\\n\",data.columns   )    # list of column names\n",
    "print(\"\\n\",data.index     )    # row index"
   ]
  },
  {
   "cell_type": "code",
   "execution_count": 11,
   "id": "c6b00f28",
   "metadata": {},
   "outputs": [
    {
     "name": "stdout",
     "output_type": "stream",
     "text": [
      "             rank  market_cap_04_08_2025  price_04_08_2025\n",
      "count  152.000000           1.520000e+02        152.000000\n",
      "mean    76.500000           6.777295e+10         73.558129\n",
      "std     44.022721           3.735016e+11        134.513950\n",
      "min      1.000000           8.735389e+06          0.128263\n",
      "25%     38.750000           1.006935e+09          8.015935\n",
      "50%     76.500000           4.950831e+09         21.431100\n",
      "75%    114.250000           1.688528e+10         79.056950\n",
      "max    152.000000           4.236614e+12        886.640000\n",
      "\n",
      "Mean: 73.55812860526318\n",
      "\n",
      "Median: 21.4311\n",
      "\n",
      "Max: 886.64\n",
      "\n",
      "Min: 0.128263\n",
      "\n",
      "Sum: 11180.835548000003\n",
      "\n",
      "Freq: price_04_08_2025\n",
      "173.720000    1\n",
      "288.640000    1\n",
      "235.210000    1\n",
      "49.567300     1\n",
      "171.651000    1\n",
      "             ..\n",
      "1.330000      1\n",
      "4.560000      1\n",
      "10.780000     1\n",
      "0.818900      1\n",
      "0.714697      1\n",
      "Name: count, Length: 152, dtype: int64\n"
     ]
    }
   ],
   "source": [
    "print(data.describe())                                   # summary statistics (mean, std, min, max, etc.)\n",
    "print(\"\\nMean:\",data['price_04_08_2025'].mean())         # average price_04_08_2025\n",
    "print(\"\\nMedian:\",data['price_04_08_2025'].median())     # median\n",
    "print(\"\\nMax:\",data['price_04_08_2025'].max())           # maximum value\n",
    "print(\"\\nMin:\",data['price_04_08_2025'].min())           # minimum value\n",
    "print(\"\\nSum:\",data['price_04_08_2025'].sum())           # sum of column\n",
    "print(\"\\nFreq:\",data['price_04_08_2025'].value_counts()) # frequency count"
   ]
  },
  {
   "cell_type": "code",
   "execution_count": null,
   "id": "886ab8af",
   "metadata": {},
   "outputs": [],
   "source": []
  }
 ],
 "metadata": {
  "kernelspec": {
   "display_name": "Python 3",
   "language": "python",
   "name": "python3"
  },
  "language_info": {
   "codemirror_mode": {
    "name": "ipython",
    "version": 3
   },
   "file_extension": ".py",
   "mimetype": "text/x-python",
   "name": "python",
   "nbconvert_exporter": "python",
   "pygments_lexer": "ipython3",
   "version": "3.13.5"
  }
 },
 "nbformat": 4,
 "nbformat_minor": 5
}
