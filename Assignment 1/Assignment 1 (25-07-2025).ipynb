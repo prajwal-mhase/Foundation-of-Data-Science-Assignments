{
 "cells": [
  {
   "cell_type": "code",
   "execution_count": 1,
   "id": "ee9b58dc",
   "metadata": {},
   "outputs": [],
   "source": [
    "import numpy as np\n",
    "import pandas as pd"
   ]
  },
  {
   "cell_type": "code",
   "execution_count": null,
   "id": "1b1f0faf",
   "metadata": {},
   "outputs": [
    {
     "name": "stdout",
     "output_type": "stream",
     "text": [
      "[0. 0. 0. 0. 0.] float64\n",
      "[0 0 0 0 0] int32\n"
     ]
    }
   ],
   "source": [
    "a=np.zeros(5)\n",
    "print(a,a.dtype)\n",
    "b=a.astype(np.int32)\n",
    "print(b,b.dtype)"
   ]
  },
  {
   "cell_type": "code",
   "execution_count": 3,
   "id": "eb74fce6",
   "metadata": {},
   "outputs": [
    {
     "name": "stdout",
     "output_type": "stream",
     "text": [
      "[[1 2 3 4]\n",
      " [5 6 7 8]\n",
      " [9 0 1 2]] (3, 4) int64\n"
     ]
    }
   ],
   "source": [
    "c = np.array([[1, 2, 3, 4], [5, 6, 7, 8], [9, 0, 1, 2]])\n",
    "print(c,c.shape,c.dtype)\n",
    "\n"
   ]
  },
  {
   "cell_type": "code",
   "execution_count": 10,
   "id": "52fdd002",
   "metadata": {},
   "outputs": [
    {
     "name": "stdout",
     "output_type": "stream",
     "text": [
      "[[1 5 9]\n",
      " [2 6 0]\n",
      " [3 7 1]\n",
      " [4 8 2]] \n",
      "\n",
      "10 \n",
      "\n",
      "[[ 1 10]\n",
      " [ 5  8]] \n",
      "\n",
      "[0 1 2 3 4] \n",
      "\n",
      "[ 1  5  8 10] \n",
      "\n"
     ]
    }
   ],
   "source": [
    "arr=np.array([1,10,5,8])\n",
    "print(np.swapaxes(c,0,1),\"\\n\")\n",
    "print(arr.max(),\"\\n\")\n",
    "print(arr.reshape((2,2)),\"\\n\")\n",
    "print(np.linspace(0,4,5,dtype=int),\"\\n\")\n",
    "print(np.sort(arr),\"\\n\")"
   ]
  }
 ],
 "metadata": {
  "kernelspec": {
   "display_name": "Python 3",
   "language": "python",
   "name": "python3"
  },
  "language_info": {
   "codemirror_mode": {
    "name": "ipython",
    "version": 3
   },
   "file_extension": ".py",
   "mimetype": "text/x-python",
   "name": "python",
   "nbconvert_exporter": "python",
   "pygments_lexer": "ipython3",
   "version": "3.13.5"
  }
 },
 "nbformat": 4,
 "nbformat_minor": 5
}
