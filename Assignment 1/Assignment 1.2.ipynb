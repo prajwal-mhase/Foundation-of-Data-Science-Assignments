{
 "cells": [
  {
   "cell_type": "code",
   "execution_count": 21,
   "id": "952014e3",
   "metadata": {},
   "outputs": [],
   "source": [
    "#Name: Prajwal Mhase\n",
    "#Roll No: 93\n",
    "#Batch: T1B\n",
    "#Assignment Title: Assignment 1\n",
    "#Date: 01/08/2025"
   ]
  },
  {
   "cell_type": "code",
   "execution_count": 22,
   "id": "e5e731c8",
   "metadata": {},
   "outputs": [],
   "source": [
    "import numpy as np"
   ]
  },
  {
   "cell_type": "code",
   "execution_count": 23,
   "id": "15546417",
   "metadata": {},
   "outputs": [
    {
     "name": "stdout",
     "output_type": "stream",
     "text": [
      "Array 1: \n",
      " [ 1  2  3  4  5  6  7  8  9 10]\n",
      "\n",
      " Array 2: \n",
      " [[11 12 13]\n",
      " [14 15 16]\n",
      " [17 18 19]]\n"
     ]
    }
   ],
   "source": [
    "#initializing arrays\n",
    "#1D array\n",
    "arr1=np.array([1,2,3,4,5,6,7,8,9,10])\n",
    "print(\"Array 1: \\n\",arr1)\n",
    "#2D array\n",
    "arr2=np.array([[11,12,13,],[14,15,16],[17,18,19]])\n",
    "print(\"\\n Array 2: \\n\",arr2)"
   ]
  },
  {
   "cell_type": "code",
   "execution_count": 24,
   "id": "97b62f79",
   "metadata": {},
   "outputs": [
    {
     "name": "stdout",
     "output_type": "stream",
     "text": [
      "Array 1 Shape: (10,)\n",
      "Array 2 Shape: (3, 3)\n",
      "\n",
      "Array 1 Data type: int64\n",
      "Array 2 Data type: int64\n"
     ]
    }
   ],
   "source": [
    "#Array attributes\n",
    "\n",
    "print(\"Array 1 Shape:\",arr1.shape)\n",
    "print(\"Array 2 Shape:\",arr2.shape)\n",
    "\n",
    "print(\"\\nArray 1 Data type:\",arr1.dtype)\n",
    "print(\"Array 2 Data type:\",arr2.dtype)\n"
   ]
  },
  {
   "cell_type": "code",
   "execution_count": 25,
   "id": "71845b25",
   "metadata": {},
   "outputs": [
    {
     "name": "stdout",
     "output_type": "stream",
     "text": [
      "\n",
      "Element at index 0 in Array 1: 1\n",
      "Element at index 1,2 in Array 2: 16\n",
      "\n",
      "Slicing Array 1 from index 2 to 5: [3 4 5 6]\n",
      "Slicing Array 2 from index 0 to 1 and 1 to 2:\n",
      " [[12 13]\n",
      " [15 16]]\n"
     ]
    }
   ],
   "source": [
    "#Array Indexing\n",
    "print(\"\\nElement at index 0 in Array 1:\", arr1[0])\n",
    "print(\"Element at index 1,2 in Array 2:\", arr2[1,2])\n",
    "\n",
    "#Array Slicing\n",
    "print(\"\\nSlicing Array 1 from index 2 to 5:\", arr1[2:6])\n",
    "print(\"Slicing Array 2 from index 0 to 1 and 1 to 2:\\n\", arr2[0:2, 1:3])\n"
   ]
  },
  {
   "cell_type": "code",
   "execution_count": 26,
   "id": "2d62c8eb",
   "metadata": {},
   "outputs": [
    {
     "name": "stdout",
     "output_type": "stream",
     "text": [
      "Array 3: [20 22 24 26 28 30]\n",
      "Array 4 (Reshaped Array 3):\n",
      " [[20 22 24]\n",
      " [26 28 30]]\n"
     ]
    }
   ],
   "source": [
    "#Array Arrange\n",
    "arr3 = np.arange(20,31,2)\n",
    "print(\"Array 3:\",arr3)\n",
    "\n",
    "#Array Reshape\n",
    "arr4 = arr3.reshape(2,3)\n",
    "print(\"Array 4 (Reshaped Array 3):\\n\", arr4)"
   ]
  },
  {
   "cell_type": "code",
   "execution_count": 27,
   "id": "813fc867",
   "metadata": {},
   "outputs": [
    {
     "name": "stdout",
     "output_type": "stream",
     "text": [
      "\n",
      "Array 1 + Array 2: [12 14 16]\n",
      "Array 1 - Array 2: [-10 -10 -10]\n",
      "Array 1 * Array 2: [11 24 39]\n",
      "Array 1 / Array 2: [0.09090909 0.16666667 0.23076923]\n",
      "Array 1 % Array 2: [1 2 3]\n",
      "Array 1 ** Array 2: [      1    4096 1594323]\n",
      "Array 1 // Array 2: [0 0 0]\n",
      "Array 1 @ Array 2: 74\n",
      "Array 1 == Array 2: [False False False]\n",
      "Array 1 != Array 2: [ True  True  True]\n",
      "Array 1 < Array 2: [ True  True  True]\n",
      "Array 1 <= Array 2: [ True  True  True]\n",
      "Array 1 > Array 2: [False False False]\n",
      "Array 1 >= Array 2: [False False False]\n",
      "Array 1 & Array 2: [1 0 1]\n",
      "Array 1 | Array 2: [11 14 15]\n",
      "Array 1 ^ Array 2: [10 14 14]\n",
      "Array 1 ~ Array 2: [-2 -3 -4]\n",
      "Array 1 << Array 2: [ 2048  8192 24576]\n",
      "Array 1 >> Array 2: [0 0 0]\n"
     ]
    }
   ],
   "source": [
    "#Arrithmetic Operations\n",
    "print(\"\\nArray 1 + Array 2:\", arr1[:3]+arr2[0]) #Addition\n",
    "print(\"Array 1 - Array 2:\", arr1[:3]-arr2[0]) #Subtraction\n",
    "print(\"Array 1 * Array 2:\", arr1[:3]*arr2[0]) #Multiplication\n",
    "print(\"Array 1 / Array 2:\", arr1[:3]/arr2[0]) #Division\n",
    "print(\"Array 1 % Array 2:\", arr1[:3]%arr2[0]) #Modulus\n",
    "print(\"Array 1 ** Array 2:\", arr1[:3]**arr2[0]) #Exponentiation\n",
    "print(\"Array 1 // Array 2:\", arr1[:3]//arr2[0]) #Floor Division\n",
    "print(\"Array 1 @ Array 2:\", arr1[:3]@arr2[0]) #Matrix Multiplication\n",
    "print(\"Array 1 == Array 2:\", arr1[:3]==arr2[0]) #Equality Check\n",
    "print(\"Array 1 != Array 2:\", arr1[:3]!=arr2[0]) #Inequality Check \n",
    "print(\"Array 1 < Array 2:\", arr1[:3]<arr2[0]) #Less Than Check\n",
    "print(\"Array 1 <= Array 2:\", arr1[:3]<=arr2[0]) #Less Than or Equal To Check  \n",
    "print(\"Array 1 > Array 2:\", arr1[:3]>arr2[0]) #Greater Than Check\n",
    "print(\"Array 1 >= Array 2:\", arr1[:3]>=arr2[0]) #Greater Than or Equal To Check\n",
    "print(\"Array 1 & Array 2:\", arr1[:3]&arr2[0]) #Bitwise AND\n",
    "print(\"Array 1 | Array 2:\", arr1[:3]|arr2[0]) #Bitwise OR\n",
    "print(\"Array 1 ^ Array 2:\", arr1[:3]^arr2[0]) #Bitwise XOR\n",
    "print(\"Array 1 ~ Array 2:\", ~arr1[:3]) #Bitwise NOT\n",
    "print(\"Array 1 << Array 2:\", arr1[:3]<<arr2[0]) #Left Shift\n",
    "print(\"Array 1 >> Array 2:\", arr1[:3]>>arr2[0]) #Right Shift"
   ]
  },
  {
   "cell_type": "code",
   "execution_count": 28,
   "id": "cda7c8c1",
   "metadata": {},
   "outputs": [
    {
     "name": "stdout",
     "output_type": "stream",
     "text": [
      "\n",
      "Argmax of Array 1: 9\n",
      "Argmax of Array 2: 8\n",
      "\n",
      "Argmin of Array 1: 0\n",
      "Argmin of Array 2: 0\n",
      "\n",
      "Linspace from 0 to 10 with 5 points: [ 0.   2.5  5.   7.5 10. ]\n",
      "\n",
      "Difference of Array 1: [[1 1]\n",
      " [1 1]\n",
      " [1 1]]\n"
     ]
    }
   ],
   "source": [
    "#Self Learning Topics\n",
    "#Argmax\n",
    "print(\"\\nArgmax of Array 1:\", np.argmax(arr1))\n",
    "print(\"Argmax of Array 2:\", np.argmax(arr2))\n",
    "\n",
    "#Argmin\n",
    "print(\"\\nArgmin of Array 1:\", np.argmin(arr1))\n",
    "print(\"Argmin of Array 2:\", np.argmin(arr2))\n",
    "\n",
    "#Linespace\n",
    "print(\"\\nLinspace from 0 to 10 with 5 points:\", np.linspace(0,10,5))\n",
    "\n",
    "#Difference\n",
    "print(\"\\nDifference of Array 1:\", np.diff(arr2))\n"
   ]
  },
  {
   "cell_type": "code",
   "execution_count": 29,
   "id": "42a44631",
   "metadata": {},
   "outputs": [
    {
     "name": "stdout",
     "output_type": "stream",
     "text": [
      "\u001b[31mType:\u001b[39m        ndarray\n",
      "\u001b[31mString form:\u001b[39m\n",
      "[[11 12 13]\n",
      " [14 15 16]\n",
      " [17 18 19]]\n",
      "\u001b[31mLength:\u001b[39m      3\n",
      "\u001b[31mFile:\u001b[39m        c:\\users\\prajw\\appdata\\roaming\\python\\python313\\site-packages\\numpy\\__init__.py\n",
      "\u001b[31mDocstring:\u001b[39m  \n",
      "ndarray(shape, dtype=float, buffer=None, offset=0,\n",
      "        strides=None, order=None)\n",
      "\n",
      "An array object represents a multidimensional, homogeneous array\n",
      "of fixed-size items.  An associated data-type object describes the\n",
      "format of each element in the array (its byte-order, how many bytes it\n",
      "occupies in memory, whether it is an integer, a floating point number,\n",
      "or something else, etc.)\n",
      "\n",
      "Arrays should be constructed using `array`, `zeros` or `empty` (refer\n",
      "to the See Also section below).  The parameters given here refer to\n",
      "a low-level method (`ndarray(...)`) for instantiating an array.\n",
      "\n",
      "For more information, refer to the `numpy` module and examine the\n",
      "methods and attributes of an array.\n",
      "\n",
      "Parameters\n",
      "----------\n",
      "(for the __new__ method; see Notes below)\n",
      "\n",
      "shape : tuple of ints\n",
      "    Shape of created array.\n",
      "dtype : data-type, optional\n",
      "    Any object that can be interpreted as a numpy data type.\n",
      "buffer : object exposing buffer interface, optional\n",
      "    Used to fill the array with data.\n",
      "offset : int, optional\n",
      "    Offset of array data in buffer.\n",
      "strides : tuple of ints, optional\n",
      "    Strides of data in memory.\n",
      "order : {'C', 'F'}, optional\n",
      "    Row-major (C-style) or column-major (Fortran-style) order.\n",
      "\n",
      "Attributes\n",
      "----------\n",
      "T : ndarray\n",
      "    Transpose of the array.\n",
      "data : buffer\n",
      "    The array's elements, in memory.\n",
      "dtype : dtype object\n",
      "    Describes the format of the elements in the array.\n",
      "flags : dict\n",
      "    Dictionary containing information related to memory use, e.g.,\n",
      "    'C_CONTIGUOUS', 'OWNDATA', 'WRITEABLE', etc.\n",
      "flat : numpy.flatiter object\n",
      "    Flattened version of the array as an iterator.  The iterator\n",
      "    allows assignments, e.g., ``x.flat = 3`` (See `ndarray.flat` for\n",
      "    assignment examples; TODO).\n",
      "imag : ndarray\n",
      "    Imaginary part of the array.\n",
      "real : ndarray\n",
      "    Real part of the array.\n",
      "size : int\n",
      "    Number of elements in the array.\n",
      "itemsize : int\n",
      "    The memory use of each array element in bytes.\n",
      "nbytes : int\n",
      "    The total number of bytes required to store the array data,\n",
      "    i.e., ``itemsize * size``.\n",
      "ndim : int\n",
      "    The array's number of dimensions.\n",
      "shape : tuple of ints\n",
      "    Shape of the array.\n",
      "strides : tuple of ints\n",
      "    The step-size required to move from one element to the next in\n",
      "    memory. For example, a contiguous ``(3, 4)`` array of type\n",
      "    ``int16`` in C-order has strides ``(8, 2)``.  This implies that\n",
      "    to move from element to element in memory requires jumps of 2 bytes.\n",
      "    To move from row-to-row, one needs to jump 8 bytes at a time\n",
      "    (``2 * 4``).\n",
      "ctypes : ctypes object\n",
      "    Class containing properties of the array needed for interaction\n",
      "    with ctypes.\n",
      "base : ndarray\n",
      "    If the array is a view into another array, that array is its `base`\n",
      "    (unless that array is also a view).  The `base` array is where the\n",
      "    array data is actually stored.\n",
      "\n",
      "See Also\n",
      "--------\n",
      "array : Construct an array.\n",
      "zeros : Create an array, each element of which is zero.\n",
      "empty : Create an array, but leave its allocated memory unchanged (i.e.,\n",
      "        it contains \"garbage\").\n",
      "dtype : Create a data-type.\n",
      "numpy.typing.NDArray : An ndarray alias :term:`generic <generic type>`\n",
      "                       w.r.t. its `dtype.type <numpy.dtype.type>`.\n",
      "\n",
      "Notes\n",
      "-----\n",
      "There are two modes of creating an array using ``__new__``:\n",
      "\n",
      "1. If `buffer` is None, then only `shape`, `dtype`, and `order`\n",
      "   are used.\n",
      "2. If `buffer` is an object exposing the buffer interface, then\n",
      "   all keywords are interpreted.\n",
      "\n",
      "No ``__init__`` method is needed because the array is fully initialized\n",
      "after the ``__new__`` method.\n",
      "\n",
      "Examples\n",
      "--------\n",
      "These examples illustrate the low-level `ndarray` constructor.  Refer\n",
      "to the `See Also` section above for easier ways of constructing an\n",
      "ndarray.\n",
      "\n",
      "First mode, `buffer` is None:\n",
      "\n",
      ">>> import numpy as np\n",
      ">>> np.ndarray(shape=(2,2), dtype=float, order='F')\n",
      "array([[0.0e+000, 0.0e+000], # random\n",
      "       [     nan, 2.5e-323]])\n",
      "\n",
      "Second mode:\n",
      "\n",
      ">>> np.ndarray((2,), buffer=np.array([1,2,3]),\n",
      "...            offset=np.int_().itemsize,\n",
      "...            dtype=int) # offset = 1*itemsize, i.e. skip first element\n",
      "array([2, 3])"
     ]
    }
   ],
   "source": [
    "?arr2"
   ]
  },
  {
   "cell_type": "code",
   "execution_count": null,
   "id": "6bc274df",
   "metadata": {},
   "outputs": [],
   "source": []
  }
 ],
 "metadata": {
  "kernelspec": {
   "display_name": "Python 3",
   "language": "python",
   "name": "python3"
  },
  "language_info": {
   "codemirror_mode": {
    "name": "ipython",
    "version": 3
   },
   "file_extension": ".py",
   "mimetype": "text/x-python",
   "name": "python",
   "nbconvert_exporter": "python",
   "pygments_lexer": "ipython3",
   "version": "3.13.5"
  }
 },
 "nbformat": 4,
 "nbformat_minor": 5
}
